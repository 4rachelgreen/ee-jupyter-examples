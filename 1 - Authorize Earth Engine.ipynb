{
 "cells": [
  {
   "cell_type": "markdown",
   "metadata": {},
   "source": [
    "# Test if the notebook server is authorized to use Earth Engine\n",
    "\n",
    "  * Click on the (potentially minimized) code block below and then press the 'Run' button to test if this server is authorized to talk to the Earth Engine backend servers.\n",
    "  * If the server is authorized, you should see a map.\n",
    "  * If the server is not authorized, you will see instructions for authorizing it."
   ]
  },
  {
   "cell_type": "markdown",
   "metadata": {},
   "source": [
    "Check if the IPython Widgets library is available on the server."
   ]
  },
  {
   "cell_type": "code",
   "execution_count": null,
   "metadata": {
    "collapsed": false
   },
   "outputs": [],
   "source": [
    "try:\n",
    "  import ipywidgets\n",
    "  print('The IPython Widgets library (version {0}) is available on this server.'.format(\n",
    "      ipywidgets.__version__\n",
    "    ))\n",
    "except ImportError:\n",
    "  print('The IPython Widgets library is not available on this server.\\n'\n",
    "        'Please see https://github.com/jupyter-widgets/ipywidgets '\n",
    "        'for information on installing the library.')\n",
    "  raise"
   ]
  },
  {
   "cell_type": "markdown",
   "metadata": {},
   "source": [
    "Check if the Earth Engine API is available on the server."
   ]
  },
  {
   "cell_type": "code",
   "execution_count": null,
   "metadata": {
    "collapsed": false
   },
   "outputs": [],
   "source": [
    "try:\n",
    "  import ee\n",
    "  print('The Earth Engine Python API (version {0}) is available on this server.'.format(\n",
    "      ee.__version__\n",
    "    ))\n",
    "except ImportError:\n",
    "  print('The Earth Engine Python API library is not available on this server.\\n'\n",
    "        'Please see https://developers.google.com/earth-engine/python_install '\n",
    "        'for information on installing the library.')\n",
    "  raise"
   ]
  },
  {
   "cell_type": "markdown",
   "metadata": {},
   "source": []
  },
  {
   "cell_type": "code",
   "execution_count": null,
   "metadata": {
    "codeCollapsed": false,
    "collapsed": false,
    "hiddenCell": false
   },
   "outputs": [],
   "source": [
    "import cStringIO\n",
    "import os\n",
    "import urllib\n",
    "\n",
    "def handle_submit(sender):\n",
    "  token = ee.oauth.request_token(get_auth_textbox.value.strip())\n",
    "  ee.oauth.write_token(token)\n",
    "  get_auth_response.value = 'Successfully saved authorization token.'\n",
    "  get_auth_textbox.value = ''  # Clear the textbox.\n",
    "  setAuthorizedStatus()\n",
    "\n",
    "def revoke_credentials(sender):\n",
    "  os.remove(ee.oauth.get_credentials_path())\n",
    "  print('Credentials have been revoked.')\n",
    "  setAuthorizedStatus()\n",
    "  \n",
    "def isAuthorized():\n",
    "  try:\n",
    "    ee.Initialize()\n",
    "    return True\n",
    "  except:\n",
    "    return False\n",
    "\n",
    "def setAuthorizedStatus():\n",
    "  if isAuthorized():\n",
    "    auth_status_button.description = 'The server is authorized to access Earth Engine'\n",
    "    auth_status_button.button_style = 'success'\n",
    "  else:\n",
    "    auth_status_button.description = 'The server is not authorized to access Earth Engine'\n",
    "    auth_status_button.button_style = 'danger'\n",
    "\n",
    "# Define layouts for the table.\n",
    "form_layout = ipywidgets.Layout(\n",
    "    display='flex',\n",
    "    flex_flow='column',\n",
    "    border='solid',\n",
    "    width='100%'\n",
    ")\n",
    "form_row_layout = ipywidgets.Layout(\n",
    "    display='flex',\n",
    "    flex_flow='row'\n",
    ")\n",
    "form_row_item_desc_layout = ipywidgets.Layout(\n",
    "  width=\"100%\"\n",
    "\n",
    ")\n",
    "form_row_item_status_layout = ipywidgets.Layout(\n",
    "  width=\"100%\",\n",
    "  align_items='center'\n",
    ")\n",
    "\n",
    "# Define widgets that may be displayed.\n",
    "auth_status_button = ipywidgets.Button(\n",
    "  layout=form_row_item_status_layout\n",
    ")\n",
    "get_auth_textbox = ipywidgets.Text(\n",
    "  placeholder='Paste authentication code here',\n",
    "  description='Code:'\n",
    ")\n",
    "get_auth_textbox.on_submit(handle_submit)\n",
    "get_auth_response = ipywidgets.Label('')\n",
    "\n",
    "revoke_auth_button = ipywidgets.Button(\n",
    "  layout=form_row_item_status_layout\n",
    ")\n",
    "revoke_auth_button.description = 'Click to revoke authorization'\n",
    "revoke_auth_button.button_style = 'danger'\n",
    "revoke_auth_button.on_click(revoke_credentials)\n",
    "\n",
    "setAuthorizedStatus()\n",
    "\n",
    "if isAuthorized():\n",
    "  # Get a sample Earth Engine image.  \n",
    "  url = ee.Image(\"CGIAR/SRTM90_V4\").getThumbUrl({'min':0, 'max':3000})\n",
    "  auth_instructions = ipywidgets.VBox(\n",
    "    [ipywidgets.Image(\n",
    "      value=cStringIO.StringIO(urllib.urlopen(url).read()).read(),\n",
    "      format='png',\n",
    "      width=400,\n",
    "      height=200\n",
    "    ),\n",
    "    revoke_auth_button\n",
    "    ],\n",
    "    layout=form_row_item_status_layout\n",
    "  )\n",
    "else:\n",
    "  auth_instructions = ipywidgets.VBox([\n",
    "      ipywidgets.HTML(\n",
    "        'Click on the link below to start the authentication and authorization process. '\n",
    "        'Once you have received an authentication code, paste it in the box below and press return.'\n",
    "      ),\n",
    "      ipywidgets.HTML(\n",
    "        '<a href=\"{url}\" target=\"auth\">Open Authentication Tab</a><br/>'.format(\n",
    "          url=ee.oauth.get_authorization_url()\n",
    "        )\n",
    "      ),\n",
    "      get_auth_textbox,\n",
    "      get_auth_response\n",
    "    ],\n",
    "    layout=form_row_item_status_layout\n",
    "  )\n",
    "\n",
    "form = ipywidgets.Box(\n",
    "  [auth_status_button, auth_instructions],\n",
    "  layout=form_layout\n",
    ")\n",
    "form"
   ]
  },
  {
   "cell_type": "code",
   "execution_count": null,
   "metadata": {
    "collapsed": true
   },
   "outputs": [],
   "source": []
  }
 ],
 "metadata": {
  "kernelspec": {
   "display_name": "Python 2",
   "language": "python",
   "name": "python2"
  },
  "language_info": {
   "codemirror_mode": {
    "name": "ipython",
    "version": 2
   },
   "file_extension": ".py",
   "mimetype": "text/x-python",
   "name": "python",
   "nbconvert_exporter": "python",
   "pygments_lexer": "ipython2",
   "version": "2.7.9"
  }
 },
 "nbformat": 4,
 "nbformat_minor": 2
}
