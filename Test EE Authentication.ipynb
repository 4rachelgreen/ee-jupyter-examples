{
 "cells": [
  {
   "cell_type": "code",
   "execution_count": 1,
   "metadata": {
    "collapsed": true
   },
   "outputs": [],
   "source": [
    "import ee\n",
    "from IPython.display import Image"
   ]
  },
  {
   "cell_type": "markdown",
   "metadata": {},
   "source": [
    "Connect the Earth Engine backend, and populate the *ee* Python package."
   ]
  },
  {
   "cell_type": "code",
   "execution_count": 2,
   "metadata": {
    "collapsed": false
   },
   "outputs": [],
   "source": [
    "ee.Initialize()"
   ]
  },
  {
   "cell_type": "markdown",
   "metadata": {},
   "source": [
    "Create an Earth Engine image object, that refers to a 90m DEM."
   ]
  },
  {
   "cell_type": "code",
   "execution_count": 3,
   "metadata": {
    "collapsed": false
   },
   "outputs": [],
   "source": [
    "srtm = ee.Image(\"CGIAR/SRTM90_V4\")"
   ]
  },
  {
   "cell_type": "markdown",
   "metadata": {},
   "source": [
    "Get the object metadata for the srtm image object, and print it out."
   ]
  },
  {
   "cell_type": "code",
   "execution_count": 4,
   "metadata": {
    "collapsed": false
   },
   "outputs": [
    {
     "name": "stdout",
     "output_type": "stream",
     "text": [
      "{'properties': {'system:asset_size': 18827626666, 'tags': ['nasa', 'cgiar', 'srtm', 'elevation', 'topography', 'dem', 'geophysical'], 'provider_url': 'http://srtm.csi.cgiar.org/', 'system:visualization_0_name': 'Elevation', 'period': 0, 'system:visualization_0_min': 0, 'link': 'srtm90_v4', 'date_range': [950227200000, 951177600000], 'system:time_end': 951177600000, 'sample': 'https://mw1.google.com/ges/dd/images/SRTM90_V4_sample.png', 'title': 'SRTM Digital Elevation Data Version 4', 'system:time_start': 950227200000, 'system:visualization_0_gamma': 1.6, 'system:visualization_0_bands': 'elevation', 'system:visualization_0_max': 10000, 'provider': 'NASA / CGIAR', 'description': \"<p>The Shuttle Radar Topography Mission (SRTM, see    <a href='http://onlinelibrary.wiley.com/doi/10.1029/2005RG000183/full'>Farr   et al. 2007</a>) digital elevation dataset was originally produced   to provide consistent, high-quality elevation data at near global scope.   This version of the SRTM digital elevation data has been  processed to fill   data voids, and to facilitate its ease of use. The SRTM 90m has a resolution   of 90m at the equator. </p><p>This dataset contains one band, 'elevation'   (meters).</p><p>For the   creation of any reports, publications, new data sets, derived products,   or services resulting from the data set, users should cite:</p>    <p>Jarvis, A., H.I. Reuter, A. Nelson, E. Guevara. 2008. Hole-filled SRTM   for the globe Version 4, available from the CGIAR-CSI SRTM 90m Database:   <a href='http://srtm.csi.cgiar.org'>http://srtm.csi.cgiar.org</a>.</p>\", 'thumb': 'https://mw1.google.com/ges/dd/images/SRTM90_V4_thumb.png'}, 'id': 'CGIAR/SRTM90_V4', 'version': 1465871044784000, 'type': 'Image', 'bands': [{'dimensions': [432000, 144000], 'id': 'elevation', 'crs': 'EPSG:4326', 'data_type': {'min': -32768, 'max': 32767, 'type': 'PixelType', 'precision': 'int'}, 'crs_transform': [0.000833333333333, 0.0, -180.0, 0.0, -0.000833333333333, 60.0]}]}\n"
     ]
    }
   ],
   "source": [
    "info = srtm.getInfo()\n",
    "print(info)"
   ]
  },
  {
   "cell_type": "markdown",
   "metadata": {},
   "source": [
    "Display the image."
   ]
  },
  {
   "cell_type": "code",
   "execution_count": 5,
   "metadata": {
    "collapsed": false
   },
   "outputs": [
    {
     "data": {
      "text/html": [
       "<img src=\"https://earthengine.googleapis.com//api/thumb?thumbid=dc1e49122501a1223c0e36307aa39e08&token=61e3eb68b1f7aad97c7fec4cd0c8d25a\"/>"
      ],
      "text/plain": [
       "<IPython.core.display.Image object>"
      ]
     },
     "execution_count": 5,
     "metadata": {},
     "output_type": "execute_result"
    }
   ],
   "source": [
    "Image(url=srtm.getThumbUrl({'min':0, 'max':3000}))"
   ]
  },
  {
   "cell_type": "code",
   "execution_count": null,
   "metadata": {
    "collapsed": true
   },
   "outputs": [],
   "source": []
  }
 ],
 "metadata": {
  "kernelspec": {
   "display_name": "Python 3",
   "language": "python",
   "name": "python3"
  },
  "language_info": {
   "codemirror_mode": {
    "name": "ipython",
    "version": 3
   },
   "file_extension": ".py",
   "mimetype": "text/x-python",
   "name": "python",
   "nbconvert_exporter": "python",
   "pygments_lexer": "ipython3",
   "version": "3.5.1"
  },
  "widgets": {
   "state": {},
   "version": "1.1.2"
  }
 },
 "nbformat": 4,
 "nbformat_minor": 0
}
